{
 "cells": [
  {
   "cell_type": "code",
   "execution_count": 114,
   "id": "e59d255e",
   "metadata": {},
   "outputs": [],
   "source": [
    "import os\n"
   ]
  },
  {
   "cell_type": "code",
   "execution_count": 115,
   "id": "43e144ed",
   "metadata": {},
   "outputs": [],
   "source": [
    "os.chdir(r\"D:\\ML Projects\\KidneyDiseaseDL\\KidneyDiseaseEndtoEndDL\")\n"
   ]
  },
  {
   "cell_type": "code",
   "execution_count": 116,
   "id": "5b586656",
   "metadata": {},
   "outputs": [
    {
     "data": {
      "text/plain": [
       "'D:\\\\ML Projects\\\\KidneyDiseaseDL\\\\KidneyDiseaseEndtoEndDL'"
      ]
     },
     "execution_count": 116,
     "metadata": {},
     "output_type": "execute_result"
    }
   ],
   "source": [
    "%pwd\n"
   ]
  },
  {
   "cell_type": "code",
   "execution_count": 117,
   "id": "e8c87656",
   "metadata": {},
   "outputs": [
    {
     "name": "stdout",
     "output_type": "stream",
     "text": [
      "Requirement already satisfied: dagshub in c:\\users\\asus\\miniconda3\\envs\\kidney\\lib\\site-packages (0.5.10)\n",
      "Requirement already satisfied: PyYAML>=5 in c:\\users\\asus\\miniconda3\\envs\\kidney\\lib\\site-packages (from dagshub) (6.0.2)\n",
      "Requirement already satisfied: appdirs>=1.4.4 in c:\\users\\asus\\miniconda3\\envs\\kidney\\lib\\site-packages (from dagshub) (1.4.4)\n",
      "Requirement already satisfied: click>=8.0.4 in c:\\users\\asus\\miniconda3\\envs\\kidney\\lib\\site-packages (from dagshub) (8.1.8)\n",
      "Requirement already satisfied: httpx>=0.23.0 in c:\\users\\asus\\miniconda3\\envs\\kidney\\lib\\site-packages (from dagshub) (0.28.1)\n",
      "Requirement already satisfied: GitPython>=3.1.29 in c:\\users\\asus\\miniconda3\\envs\\kidney\\lib\\site-packages (from dagshub) (3.1.45)\n",
      "Requirement already satisfied: rich>=13.1.0 in c:\\users\\asus\\miniconda3\\envs\\kidney\\lib\\site-packages (from dagshub) (14.1.0)\n",
      "Requirement already satisfied: dacite~=1.6.0 in c:\\users\\asus\\miniconda3\\envs\\kidney\\lib\\site-packages (from dagshub) (1.6.0)\n",
      "Requirement already satisfied: tenacity>=8.2.2 in c:\\users\\asus\\miniconda3\\envs\\kidney\\lib\\site-packages (from dagshub) (9.0.0)\n",
      "Requirement already satisfied: gql[requests] in c:\\users\\asus\\miniconda3\\envs\\kidney\\lib\\site-packages (from dagshub) (3.5.3)\n",
      "Requirement already satisfied: dataclasses-json in c:\\users\\asus\\miniconda3\\envs\\kidney\\lib\\site-packages (from dagshub) (0.6.7)\n",
      "Requirement already satisfied: pandas in c:\\users\\asus\\miniconda3\\envs\\kidney\\lib\\site-packages (from dagshub) (2.0.3)\n",
      "Requirement already satisfied: treelib>=1.6.4 in c:\\users\\asus\\miniconda3\\envs\\kidney\\lib\\site-packages (from dagshub) (1.8.0)\n",
      "Requirement already satisfied: pathvalidate>=3.0.0 in c:\\users\\asus\\miniconda3\\envs\\kidney\\lib\\site-packages (from dagshub) (3.2.1)\n",
      "Requirement already satisfied: python-dateutil in c:\\users\\asus\\miniconda3\\envs\\kidney\\lib\\site-packages (from dagshub) (2.8.2)\n",
      "Requirement already satisfied: boto3 in c:\\users\\asus\\miniconda3\\envs\\kidney\\lib\\site-packages (from dagshub) (1.37.38)\n",
      "Requirement already satisfied: semver in c:\\users\\asus\\miniconda3\\envs\\kidney\\lib\\site-packages (from dagshub) (3.0.4)\n",
      "Requirement already satisfied: dagshub-annotation-converter>=0.1.5 in c:\\users\\asus\\miniconda3\\envs\\kidney\\lib\\site-packages (from dagshub) (0.1.11)\n",
      "Requirement already satisfied: colorama in c:\\users\\asus\\miniconda3\\envs\\kidney\\lib\\site-packages (from click>=8.0.4->dagshub) (0.4.6)\n",
      "Requirement already satisfied: lxml in c:\\users\\asus\\miniconda3\\envs\\kidney\\lib\\site-packages (from dagshub-annotation-converter>=0.1.5->dagshub) (6.0.0)\n",
      "Requirement already satisfied: pillow in c:\\users\\asus\\miniconda3\\envs\\kidney\\lib\\site-packages (from dagshub-annotation-converter>=0.1.5->dagshub) (10.4.0)\n",
      "Requirement already satisfied: pydantic>=2.0.0 in c:\\users\\asus\\miniconda3\\envs\\kidney\\lib\\site-packages (from dagshub-annotation-converter>=0.1.5->dagshub) (2.10.6)\n",
      "Requirement already satisfied: typing-extensions in c:\\users\\asus\\miniconda3\\envs\\kidney\\lib\\site-packages (from dagshub-annotation-converter>=0.1.5->dagshub) (4.12.2)\n",
      "Requirement already satisfied: gitdb<5,>=4.0.1 in c:\\users\\asus\\miniconda3\\envs\\kidney\\lib\\site-packages (from GitPython>=3.1.29->dagshub) (4.0.12)\n",
      "Requirement already satisfied: anyio in c:\\users\\asus\\miniconda3\\envs\\kidney\\lib\\site-packages (from httpx>=0.23.0->dagshub) (4.5.2)\n",
      "Requirement already satisfied: certifi in c:\\users\\asus\\miniconda3\\envs\\kidney\\lib\\site-packages (from httpx>=0.23.0->dagshub) (2025.7.14)\n",
      "Requirement already satisfied: httpcore==1.* in c:\\users\\asus\\miniconda3\\envs\\kidney\\lib\\site-packages (from httpx>=0.23.0->dagshub) (1.0.9)\n",
      "Requirement already satisfied: idna in c:\\users\\asus\\miniconda3\\envs\\kidney\\lib\\site-packages (from httpx>=0.23.0->dagshub) (3.10)\n",
      "Requirement already satisfied: h11>=0.16 in c:\\users\\asus\\miniconda3\\envs\\kidney\\lib\\site-packages (from httpcore==1.*->httpx>=0.23.0->dagshub) (0.16.0)\n",
      "Requirement already satisfied: markdown-it-py>=2.2.0 in c:\\users\\asus\\miniconda3\\envs\\kidney\\lib\\site-packages (from rich>=13.1.0->dagshub) (3.0.0)\n",
      "Requirement already satisfied: pygments<3.0.0,>=2.13.0 in c:\\users\\asus\\miniconda3\\envs\\kidney\\lib\\site-packages (from rich>=13.1.0->dagshub) (2.18.0)\n",
      "Requirement already satisfied: six>=1.13.0 in c:\\users\\asus\\miniconda3\\envs\\kidney\\lib\\site-packages (from treelib>=1.6.4->dagshub) (1.16.0)\n",
      "Requirement already satisfied: botocore<1.38.0,>=1.37.38 in c:\\users\\asus\\miniconda3\\envs\\kidney\\lib\\site-packages (from boto3->dagshub) (1.37.38)\n",
      "Requirement already satisfied: jmespath<2.0.0,>=0.7.1 in c:\\users\\asus\\miniconda3\\envs\\kidney\\lib\\site-packages (from boto3->dagshub) (1.0.1)\n",
      "Requirement already satisfied: s3transfer<0.12.0,>=0.11.0 in c:\\users\\asus\\miniconda3\\envs\\kidney\\lib\\site-packages (from boto3->dagshub) (0.11.5)\n",
      "Requirement already satisfied: marshmallow<4.0.0,>=3.18.0 in c:\\users\\asus\\miniconda3\\envs\\kidney\\lib\\site-packages (from dataclasses-json->dagshub) (3.22.0)\n",
      "Requirement already satisfied: typing-inspect<1,>=0.4.0 in c:\\users\\asus\\miniconda3\\envs\\kidney\\lib\\site-packages (from dataclasses-json->dagshub) (0.9.0)\n",
      "Requirement already satisfied: graphql-core<3.2.7,>=3.2 in c:\\users\\asus\\miniconda3\\envs\\kidney\\lib\\site-packages (from gql[requests]->dagshub) (3.2.6)\n",
      "Requirement already satisfied: yarl<2.0,>=1.6 in c:\\users\\asus\\miniconda3\\envs\\kidney\\lib\\site-packages (from gql[requests]->dagshub) (1.15.2)\n",
      "Requirement already satisfied: backoff<3.0,>=1.11.1 in c:\\users\\asus\\miniconda3\\envs\\kidney\\lib\\site-packages (from gql[requests]->dagshub) (2.2.1)\n",
      "Requirement already satisfied: requests<3,>=2.26 in c:\\users\\asus\\miniconda3\\envs\\kidney\\lib\\site-packages (from gql[requests]->dagshub) (2.32.4)\n",
      "Requirement already satisfied: requests-toolbelt<2,>=1.0.0 in c:\\users\\asus\\miniconda3\\envs\\kidney\\lib\\site-packages (from gql[requests]->dagshub) (1.0.0)\n",
      "Requirement already satisfied: pytz>=2020.1 in c:\\users\\asus\\miniconda3\\envs\\kidney\\lib\\site-packages (from pandas->dagshub) (2025.2)\n",
      "Requirement already satisfied: tzdata>=2022.1 in c:\\users\\asus\\miniconda3\\envs\\kidney\\lib\\site-packages (from pandas->dagshub) (2025.2)\n",
      "Requirement already satisfied: numpy>=1.20.3 in c:\\users\\asus\\miniconda3\\envs\\kidney\\lib\\site-packages (from pandas->dagshub) (1.23.5)\n",
      "Requirement already satisfied: sniffio>=1.1 in c:\\users\\asus\\miniconda3\\envs\\kidney\\lib\\site-packages (from anyio->httpx>=0.23.0->dagshub) (1.3.1)\n",
      "Requirement already satisfied: exceptiongroup>=1.0.2 in c:\\users\\asus\\miniconda3\\envs\\kidney\\lib\\site-packages (from anyio->httpx>=0.23.0->dagshub) (1.3.0)\n",
      "Requirement already satisfied: urllib3<1.27,>=1.25.4 in c:\\users\\asus\\miniconda3\\envs\\kidney\\lib\\site-packages (from botocore<1.38.0,>=1.37.38->boto3->dagshub) (1.26.20)\n",
      "Requirement already satisfied: smmap<6,>=3.0.1 in c:\\users\\asus\\miniconda3\\envs\\kidney\\lib\\site-packages (from gitdb<5,>=4.0.1->GitPython>=3.1.29->dagshub) (5.0.2)\n",
      "Requirement already satisfied: mdurl~=0.1 in c:\\users\\asus\\miniconda3\\envs\\kidney\\lib\\site-packages (from markdown-it-py>=2.2.0->rich>=13.1.0->dagshub) (0.1.2)\n",
      "Requirement already satisfied: packaging>=17.0 in c:\\users\\asus\\miniconda3\\envs\\kidney\\lib\\site-packages (from marshmallow<4.0.0,>=3.18.0->dataclasses-json->dagshub) (24.2)\n",
      "Requirement already satisfied: annotated-types>=0.6.0 in c:\\users\\asus\\miniconda3\\envs\\kidney\\lib\\site-packages (from pydantic>=2.0.0->dagshub-annotation-converter>=0.1.5->dagshub) (0.7.0)\n",
      "Requirement already satisfied: pydantic-core==2.27.2 in c:\\users\\asus\\miniconda3\\envs\\kidney\\lib\\site-packages (from pydantic>=2.0.0->dagshub-annotation-converter>=0.1.5->dagshub) (2.27.2)\n",
      "Requirement already satisfied: charset_normalizer<4,>=2 in c:\\users\\asus\\miniconda3\\envs\\kidney\\lib\\site-packages (from requests<3,>=2.26->gql[requests]->dagshub) (3.4.2)\n",
      "Requirement already satisfied: mypy-extensions>=0.3.0 in c:\\users\\asus\\miniconda3\\envs\\kidney\\lib\\site-packages (from typing-inspect<1,>=0.4.0->dataclasses-json->dagshub) (1.1.0)\n",
      "Requirement already satisfied: multidict>=4.0 in c:\\users\\asus\\miniconda3\\envs\\kidney\\lib\\site-packages (from yarl<2.0,>=1.6->gql[requests]->dagshub) (6.1.0)\n",
      "Requirement already satisfied: propcache>=0.2.0 in c:\\users\\asus\\miniconda3\\envs\\kidney\\lib\\site-packages (from yarl<2.0,>=1.6->gql[requests]->dagshub) (0.2.0)\n",
      "Note: you may need to restart the kernel to use updated packages.\n"
     ]
    }
   ],
   "source": [
    "%pip install dagshub"
   ]
  },
  {
   "cell_type": "code",
   "execution_count": 118,
   "id": "11997f57",
   "metadata": {},
   "outputs": [
    {
     "name": "stdout",
     "output_type": "stream",
     "text": [
      "Requirement already satisfied: mlflow in c:\\users\\asus\\miniconda3\\envs\\kidney\\lib\\site-packages (2.17.2)Note: you may need to restart the kernel to use updated packages.\n",
      "\n",
      "Requirement already satisfied: mlflow-skinny==2.17.2 in c:\\users\\asus\\miniconda3\\envs\\kidney\\lib\\site-packages (from mlflow) (2.17.2)\n",
      "Requirement already satisfied: Flask<4 in c:\\users\\asus\\miniconda3\\envs\\kidney\\lib\\site-packages (from mlflow) (3.0.3)\n",
      "Requirement already satisfied: alembic!=1.10.0,<2 in c:\\users\\asus\\miniconda3\\envs\\kidney\\lib\\site-packages (from mlflow) (1.14.1)\n",
      "Requirement already satisfied: docker<8,>=4.0.0 in c:\\users\\asus\\miniconda3\\envs\\kidney\\lib\\site-packages (from mlflow) (7.1.0)\n",
      "Requirement already satisfied: graphene<4 in c:\\users\\asus\\miniconda3\\envs\\kidney\\lib\\site-packages (from mlflow) (3.4.3)\n",
      "Requirement already satisfied: markdown<4,>=3.3 in c:\\users\\asus\\miniconda3\\envs\\kidney\\lib\\site-packages (from mlflow) (3.7)\n",
      "Requirement already satisfied: matplotlib<4 in c:\\users\\asus\\miniconda3\\envs\\kidney\\lib\\site-packages (from mlflow) (3.7.5)\n",
      "Requirement already satisfied: numpy<3 in c:\\users\\asus\\miniconda3\\envs\\kidney\\lib\\site-packages (from mlflow) (1.23.5)\n",
      "Requirement already satisfied: pandas<3 in c:\\users\\asus\\miniconda3\\envs\\kidney\\lib\\site-packages (from mlflow) (2.0.3)\n",
      "Requirement already satisfied: pyarrow<18,>=4.0.0 in c:\\users\\asus\\miniconda3\\envs\\kidney\\lib\\site-packages (from mlflow) (17.0.0)\n",
      "Requirement already satisfied: scikit-learn<2 in c:\\users\\asus\\miniconda3\\envs\\kidney\\lib\\site-packages (from mlflow) (1.3.2)\n",
      "Requirement already satisfied: scipy<2 in c:\\users\\asus\\miniconda3\\envs\\kidney\\lib\\site-packages (from mlflow) (1.10.1)\n",
      "Requirement already satisfied: sqlalchemy<3,>=1.4.0 in c:\\users\\asus\\miniconda3\\envs\\kidney\\lib\\site-packages (from mlflow) (2.0.41)\n",
      "Requirement already satisfied: Jinja2<4,>=3.0 in c:\\users\\asus\\miniconda3\\envs\\kidney\\lib\\site-packages (from mlflow) (3.1.6)\n",
      "Requirement already satisfied: waitress<4 in c:\\users\\asus\\miniconda3\\envs\\kidney\\lib\\site-packages (from mlflow) (3.0.0)\n",
      "Requirement already satisfied: cachetools<6,>=5.0.0 in c:\\users\\asus\\miniconda3\\envs\\kidney\\lib\\site-packages (from mlflow-skinny==2.17.2->mlflow) (5.5.2)\n",
      "Requirement already satisfied: click<9,>=7.0 in c:\\users\\asus\\miniconda3\\envs\\kidney\\lib\\site-packages (from mlflow-skinny==2.17.2->mlflow) (8.1.8)\n",
      "Requirement already satisfied: cloudpickle<4 in c:\\users\\asus\\miniconda3\\envs\\kidney\\lib\\site-packages (from mlflow-skinny==2.17.2->mlflow) (3.1.1)\n",
      "Requirement already satisfied: databricks-sdk<1,>=0.20.0 in c:\\users\\asus\\miniconda3\\envs\\kidney\\lib\\site-packages (from mlflow-skinny==2.17.2->mlflow) (0.60.0)\n",
      "Requirement already satisfied: gitpython<4,>=3.1.9 in c:\\users\\asus\\miniconda3\\envs\\kidney\\lib\\site-packages (from mlflow-skinny==2.17.2->mlflow) (3.1.45)\n",
      "Requirement already satisfied: importlib-metadata!=4.7.0,<9,>=3.7.0 in c:\\users\\asus\\miniconda3\\envs\\kidney\\lib\\site-packages (from mlflow-skinny==2.17.2->mlflow) (8.5.0)\n",
      "Requirement already satisfied: opentelemetry-api<3,>=1.9.0 in c:\\users\\asus\\miniconda3\\envs\\kidney\\lib\\site-packages (from mlflow-skinny==2.17.2->mlflow) (1.33.1)\n",
      "Requirement already satisfied: opentelemetry-sdk<3,>=1.9.0 in c:\\users\\asus\\miniconda3\\envs\\kidney\\lib\\site-packages (from mlflow-skinny==2.17.2->mlflow) (1.33.1)\n",
      "Requirement already satisfied: packaging<25 in c:\\users\\asus\\miniconda3\\envs\\kidney\\lib\\site-packages (from mlflow-skinny==2.17.2->mlflow) (24.2)\n",
      "Requirement already satisfied: protobuf<6,>=3.12.0 in c:\\users\\asus\\miniconda3\\envs\\kidney\\lib\\site-packages (from mlflow-skinny==2.17.2->mlflow) (4.25.8)\n",
      "Requirement already satisfied: pyyaml<7,>=5.1 in c:\\users\\asus\\miniconda3\\envs\\kidney\\lib\\site-packages (from mlflow-skinny==2.17.2->mlflow) (6.0.2)\n",
      "Requirement already satisfied: requests<3,>=2.17.3 in c:\\users\\asus\\miniconda3\\envs\\kidney\\lib\\site-packages (from mlflow-skinny==2.17.2->mlflow) (2.32.4)\n",
      "Requirement already satisfied: sqlparse<1,>=0.4.0 in c:\\users\\asus\\miniconda3\\envs\\kidney\\lib\\site-packages (from mlflow-skinny==2.17.2->mlflow) (0.5.3)\n",
      "Requirement already satisfied: Mako in c:\\users\\asus\\miniconda3\\envs\\kidney\\lib\\site-packages (from alembic!=1.10.0,<2->mlflow) (1.3.10)\n",
      "Requirement already satisfied: importlib-resources in c:\\users\\asus\\miniconda3\\envs\\kidney\\lib\\site-packages (from alembic!=1.10.0,<2->mlflow) (6.4.5)\n",
      "Requirement already satisfied: typing-extensions>=4 in c:\\users\\asus\\miniconda3\\envs\\kidney\\lib\\site-packages (from alembic!=1.10.0,<2->mlflow) (4.12.2)\n",
      "Requirement already satisfied: pywin32>=304 in c:\\users\\asus\\miniconda3\\envs\\kidney\\lib\\site-packages (from docker<8,>=4.0.0->mlflow) (306)\n",
      "Requirement already satisfied: urllib3>=1.26.0 in c:\\users\\asus\\miniconda3\\envs\\kidney\\lib\\site-packages (from docker<8,>=4.0.0->mlflow) (1.26.20)\n",
      "Requirement already satisfied: Werkzeug>=3.0.0 in c:\\users\\asus\\miniconda3\\envs\\kidney\\lib\\site-packages (from Flask<4->mlflow) (3.0.6)\n",
      "Requirement already satisfied: itsdangerous>=2.1.2 in c:\\users\\asus\\miniconda3\\envs\\kidney\\lib\\site-packages (from Flask<4->mlflow) (2.2.0)\n",
      "Requirement already satisfied: blinker>=1.6.2 in c:\\users\\asus\\miniconda3\\envs\\kidney\\lib\\site-packages (from Flask<4->mlflow) (1.8.2)\n",
      "Requirement already satisfied: graphql-core<3.3,>=3.1 in c:\\users\\asus\\miniconda3\\envs\\kidney\\lib\\site-packages (from graphene<4->mlflow) (3.2.6)\n",
      "Requirement already satisfied: graphql-relay<3.3,>=3.1 in c:\\users\\asus\\miniconda3\\envs\\kidney\\lib\\site-packages (from graphene<4->mlflow) (3.2.0)\n",
      "Requirement already satisfied: python-dateutil<3,>=2.7.0 in c:\\users\\asus\\miniconda3\\envs\\kidney\\lib\\site-packages (from graphene<4->mlflow) (2.8.2)\n",
      "Requirement already satisfied: MarkupSafe>=2.0 in c:\\users\\asus\\miniconda3\\envs\\kidney\\lib\\site-packages (from Jinja2<4,>=3.0->mlflow) (2.1.5)\n",
      "Requirement already satisfied: contourpy>=1.0.1 in c:\\users\\asus\\miniconda3\\envs\\kidney\\lib\\site-packages (from matplotlib<4->mlflow) (1.1.1)\n",
      "Requirement already satisfied: cycler>=0.10 in c:\\users\\asus\\miniconda3\\envs\\kidney\\lib\\site-packages (from matplotlib<4->mlflow) (0.12.1)\n",
      "Requirement already satisfied: fonttools>=4.22.0 in c:\\users\\asus\\miniconda3\\envs\\kidney\\lib\\site-packages (from matplotlib<4->mlflow) (4.57.0)\n",
      "Requirement already satisfied: kiwisolver>=1.0.1 in c:\\users\\asus\\miniconda3\\envs\\kidney\\lib\\site-packages (from matplotlib<4->mlflow) (1.4.7)\n",
      "Requirement already satisfied: pillow>=6.2.0 in c:\\users\\asus\\miniconda3\\envs\\kidney\\lib\\site-packages (from matplotlib<4->mlflow) (10.4.0)\n",
      "Requirement already satisfied: pyparsing>=2.3.1 in c:\\users\\asus\\miniconda3\\envs\\kidney\\lib\\site-packages (from matplotlib<4->mlflow) (3.1.4)\n",
      "Requirement already satisfied: pytz>=2020.1 in c:\\users\\asus\\miniconda3\\envs\\kidney\\lib\\site-packages (from pandas<3->mlflow) (2025.2)\n",
      "Requirement already satisfied: tzdata>=2022.1 in c:\\users\\asus\\miniconda3\\envs\\kidney\\lib\\site-packages (from pandas<3->mlflow) (2025.2)\n",
      "Requirement already satisfied: joblib>=1.1.1 in c:\\users\\asus\\miniconda3\\envs\\kidney\\lib\\site-packages (from scikit-learn<2->mlflow) (1.4.2)\n",
      "Requirement already satisfied: threadpoolctl>=2.0.0 in c:\\users\\asus\\miniconda3\\envs\\kidney\\lib\\site-packages (from scikit-learn<2->mlflow) (3.5.0)\n",
      "Requirement already satisfied: greenlet>=1 in c:\\users\\asus\\miniconda3\\envs\\kidney\\lib\\site-packages (from sqlalchemy<3,>=1.4.0->mlflow) (3.1.1)\n",
      "Requirement already satisfied: colorama in c:\\users\\asus\\miniconda3\\envs\\kidney\\lib\\site-packages (from click<9,>=7.0->mlflow-skinny==2.17.2->mlflow) (0.4.6)\n",
      "Requirement already satisfied: google-auth~=2.0 in c:\\users\\asus\\miniconda3\\envs\\kidney\\lib\\site-packages (from databricks-sdk<1,>=0.20.0->mlflow-skinny==2.17.2->mlflow) (2.40.3)\n",
      "Requirement already satisfied: gitdb<5,>=4.0.1 in c:\\users\\asus\\miniconda3\\envs\\kidney\\lib\\site-packages (from gitpython<4,>=3.1.9->mlflow-skinny==2.17.2->mlflow) (4.0.12)\n",
      "Requirement already satisfied: zipp>=3.20 in c:\\users\\asus\\miniconda3\\envs\\kidney\\lib\\site-packages (from importlib-metadata!=4.7.0,<9,>=3.7.0->mlflow-skinny==2.17.2->mlflow) (3.21.0)\n",
      "Requirement already satisfied: deprecated>=1.2.6 in c:\\users\\asus\\miniconda3\\envs\\kidney\\lib\\site-packages (from opentelemetry-api<3,>=1.9.0->mlflow-skinny==2.17.2->mlflow) (1.2.18)\n",
      "Requirement already satisfied: opentelemetry-semantic-conventions==0.54b1 in c:\\users\\asus\\miniconda3\\envs\\kidney\\lib\\site-packages (from opentelemetry-sdk<3,>=1.9.0->mlflow-skinny==2.17.2->mlflow) (0.54b1)\n",
      "Requirement already satisfied: six>=1.5 in c:\\users\\asus\\miniconda3\\envs\\kidney\\lib\\site-packages (from python-dateutil<3,>=2.7.0->graphene<4->mlflow) (1.16.0)\n",
      "Requirement already satisfied: charset_normalizer<4,>=2 in c:\\users\\asus\\miniconda3\\envs\\kidney\\lib\\site-packages (from requests<3,>=2.17.3->mlflow-skinny==2.17.2->mlflow) (3.4.2)\n",
      "Requirement already satisfied: idna<4,>=2.5 in c:\\users\\asus\\miniconda3\\envs\\kidney\\lib\\site-packages (from requests<3,>=2.17.3->mlflow-skinny==2.17.2->mlflow) (3.10)\n",
      "Requirement already satisfied: certifi>=2017.4.17 in c:\\users\\asus\\miniconda3\\envs\\kidney\\lib\\site-packages (from requests<3,>=2.17.3->mlflow-skinny==2.17.2->mlflow) (2025.7.14)\n",
      "Requirement already satisfied: wrapt<2,>=1.10 in c:\\users\\asus\\miniconda3\\envs\\kidney\\lib\\site-packages (from deprecated>=1.2.6->opentelemetry-api<3,>=1.9.0->mlflow-skinny==2.17.2->mlflow) (1.14.1)\n",
      "Requirement already satisfied: smmap<6,>=3.0.1 in c:\\users\\asus\\miniconda3\\envs\\kidney\\lib\\site-packages (from gitdb<5,>=4.0.1->gitpython<4,>=3.1.9->mlflow-skinny==2.17.2->mlflow) (5.0.2)\n",
      "Requirement already satisfied: pyasn1-modules>=0.2.1 in c:\\users\\asus\\miniconda3\\envs\\kidney\\lib\\site-packages (from google-auth~=2.0->databricks-sdk<1,>=0.20.0->mlflow-skinny==2.17.2->mlflow) (0.4.2)\n",
      "Requirement already satisfied: rsa<5,>=3.1.4 in c:\\users\\asus\\miniconda3\\envs\\kidney\\lib\\site-packages (from google-auth~=2.0->databricks-sdk<1,>=0.20.0->mlflow-skinny==2.17.2->mlflow) (4.9.1)\n",
      "Requirement already satisfied: pyasn1<0.7.0,>=0.6.1 in c:\\users\\asus\\miniconda3\\envs\\kidney\\lib\\site-packages (from pyasn1-modules>=0.2.1->google-auth~=2.0->databricks-sdk<1,>=0.20.0->mlflow-skinny==2.17.2->mlflow) (0.6.1)\n"
     ]
    }
   ],
   "source": [
    "%pip install mlflow"
   ]
  },
  {
   "cell_type": "code",
   "execution_count": 119,
   "id": "7734bc52",
   "metadata": {},
   "outputs": [
    {
     "name": "stderr",
     "output_type": "stream",
     "text": [
      "2025/07/28 14:55:01 INFO mlflow.tracking._tracking_service.client: 🏃 View run luxuriant-goat-751 at: https://dagshub.com/anujayavidmal2002/KidneyDiseaseEndtoEndDL.mlflow/#/experiments/0/runs/c35bd984fff44544b99306aba4a30ccd.\n",
      "2025/07/28 14:55:01 INFO mlflow.tracking._tracking_service.client: 🧪 View experiment at: https://dagshub.com/anujayavidmal2002/KidneyDiseaseEndtoEndDL.mlflow/#/experiments/0.\n"
     ]
    }
   ],
   "source": [
    "import mlflow\n",
    "\n",
    "\n",
    "os.environ[\"MLFLOW_TRACKING_URI\"]=\"https://dagshub.com/anujayavidmal2002/KidneyDiseaseEndtoEndDL.mlflow\"\n",
    "os.environ[\"MLFLOW_TRACKING_USERNAME\"]=\"anujayavidmal2002\"\n",
    "os.environ[\"MLFLOW_TRACKING_PASSWORD\"]=\"deca8a7bc2c45db5f9e58e36d687740f2c9fb087\"\n",
    "\n",
    "mlflow.set_tracking_uri(\"https://dagshub.com/anujayavidmal2002/KidneyDiseaseEndtoEndDL.mlflow\")\n",
    "\n",
    "# ✅ Test MLflow logging\n",
    "with mlflow.start_run():\n",
    "    mlflow.log_param(\"example_param\", 123)\n",
    "    mlflow.log_metric(\"example_metric\", 0.95)"
   ]
  },
  {
   "cell_type": "code",
   "execution_count": 120,
   "id": "a96749cb",
   "metadata": {},
   "outputs": [],
   "source": [
    "import tensorflow as tf\n"
   ]
  },
  {
   "cell_type": "code",
   "execution_count": 121,
   "id": "15fd0a85",
   "metadata": {},
   "outputs": [],
   "source": [
    "model = tf.keras.models.load_model(\"artifacts/training/model.h5\")"
   ]
  },
  {
   "cell_type": "code",
   "execution_count": 122,
   "id": "70b8ea59",
   "metadata": {},
   "outputs": [],
   "source": [
    "from dataclasses import dataclass\n",
    "from pathlib import Path\n",
    "\n",
    "@dataclass(frozen=True)\n",
    "class EvaluationConfig:\n",
    "    path_of_model: Path\n",
    "    training_data: Path\n",
    "    all_params: dict\n",
    "    mlflow_uri: str\n",
    "    params_image_size: list\n",
    "    params_batch_size: int"
   ]
  },
  {
   "cell_type": "code",
   "execution_count": 123,
   "id": "92024660",
   "metadata": {},
   "outputs": [
    {
     "data": {
      "text/plain": [
       "'D:\\\\ML Projects\\\\KidneyDiseaseDL\\\\KidneyDiseaseEndtoEndDL'"
      ]
     },
     "execution_count": 123,
     "metadata": {},
     "output_type": "execute_result"
    }
   ],
   "source": [
    "os.getcwd()"
   ]
  },
  {
   "cell_type": "code",
   "execution_count": 124,
   "id": "159ad789",
   "metadata": {},
   "outputs": [],
   "source": [
    "import sys\n",
    "\n",
    "sys.path.append(\"D:/ML Projects/KidneyDiseaseDL/KidneyDiseaseEndtoEndDL/src\")\n"
   ]
  },
  {
   "cell_type": "code",
   "execution_count": 125,
   "id": "353c7f78",
   "metadata": {},
   "outputs": [],
   "source": [
    "\n",
    "from cnnClassifier.constants import *\n",
    "from cnnClassifier.utils.common import read_yaml, create_directories, save_json"
   ]
  },
  {
   "cell_type": "code",
   "execution_count": 126,
   "id": "a9a27def",
   "metadata": {},
   "outputs": [],
   "source": [
    "\n",
    "class ConfigurationManager:\n",
    "    def __init__(\n",
    "        self, \n",
    "        config_filepath = CONFIG_FILE_PATH,\n",
    "        params_filepath = PARAMS_FILE_PATH):\n",
    "        self.config = read_yaml(config_filepath)\n",
    "        self.params = read_yaml(params_filepath)\n",
    "        create_directories([self.config.artifacts_root])\n",
    "\n",
    "    \n",
    "    def get_evaluation_config(self) -> EvaluationConfig:\n",
    "        eval_config = EvaluationConfig(\n",
    "            path_of_model=\"artifacts/training/model.h5\",\n",
    "            training_data=\"artifacts/data_ingestion/kidney-ct-scan-image\",\n",
    "            mlflow_uri=\"https://dagshub.com/entbappy/Kidney-Disease-Classification-MLflow-DVC.mlflow\",\n",
    "            all_params=self.params,\n",
    "            params_image_size=self.params.IMAGE_SIZE,\n",
    "            params_batch_size=self.params.BATCH_SIZE\n",
    "        )\n",
    "        return eval_config"
   ]
  },
  {
   "cell_type": "code",
   "execution_count": 127,
   "id": "3ed65e5e",
   "metadata": {},
   "outputs": [],
   "source": [
    "\n",
    "import tensorflow as tf\n",
    "from pathlib import Path\n",
    "import mlflow\n",
    "import mlflow.keras\n",
    "from urllib.parse import urlparse"
   ]
  },
  {
   "cell_type": "markdown",
   "id": "a0a8a1d7",
   "metadata": {},
   "source": [
    "class Evaluation:\n",
    "    def __init__(self, config: EvaluationConfig):\n",
    "        self.config = config\n",
    "\n",
    "    \n",
    "    def _valid_generator(self):\n",
    "\n",
    "        datagenerator_kwargs = dict(\n",
    "            rescale = 1./255,\n",
    "            validation_split=0.30\n",
    "        )\n",
    "\n",
    "        dataflow_kwargs = dict(\n",
    "            target_size=self.config.params_image_size[:-1],\n",
    "            batch_size=self.config.params_batch_size,\n",
    "            interpolation=\"bilinear\"\n",
    "        )\n",
    "\n",
    "        valid_datagenerator = tf.keras.preprocessing.image.ImageDataGenerator(\n",
    "            **datagenerator_kwargs\n",
    "        )\n",
    "\n",
    "        self.valid_generator = valid_datagenerator.flow_from_directory(\n",
    "            directory=self.config.training_data,\n",
    "            subset=\"validation\",\n",
    "            shuffle=False,\n",
    "            **dataflow_kwargs\n",
    "        )\n",
    "\n",
    "\n",
    "    @staticmethod\n",
    "    def load_model(path: Path) -> tf.keras.Model:\n",
    "        return tf.keras.models.load_model(path)\n",
    "    \n",
    "\n",
    "    def evaluation(self):\n",
    "        self.model = self.load_model(self.config.path_of_model)\n",
    "        self._valid_generator()\n",
    "        self.score = model.evaluate(self.valid_generator)\n",
    "        self.save_score()\n",
    "\n",
    "    def save_score(self):\n",
    "        scores = {\"loss\": self.score[0], \"accuracy\": self.score[1]}\n",
    "        save_json(path=Path(\"scores.json\"), data=scores)\n",
    "\n",
    "    \n",
    "    def log_into_mlflow(self):\n",
    "        mlflow.set_registry_uri(self.config.mlflow_uri)\n",
    "        tracking_url_type_store = urlparse(mlflow.get_tracking_uri()).scheme\n",
    "        \n",
    "        with mlflow.start_run():\n",
    "            mlflow.log_params(self.config.all_params)\n",
    "            mlflow.log_metrics(\n",
    "                {\"loss\": self.score[0], \"accuracy\": self.score[1]}\n",
    "            )\n",
    "            # Model registry does not work with file store\n",
    "            if tracking_url_type_store != \"file\":\n",
    "\n",
    "                # Register the model\n",
    "                # There are other ways to use the Model Registry, which depends on the use case,\n",
    "                # please refer to the doc for more information:\n",
    "                # https://mlflow.org/docs/latest/model-registry.html#api-workflow\n",
    "                mlflow.keras.log_model(self.model, \"model\", registered_model_name=\"VGG16Model\")\n",
    "            else:\n",
    "                mlflow.keras.log_model(self.model, \"model\")"
   ]
  },
  {
   "cell_type": "code",
   "execution_count": 130,
   "id": "601cbcf9",
   "metadata": {},
   "outputs": [],
   "source": [
    "class Evaluation:\n",
    "    def __init__(self, config: EvaluationConfig):\n",
    "        self.config = config\n",
    "\n",
    "    \n",
    "    def _valid_generator(self):\n",
    "\n",
    "        datagenerator_kwargs = dict(\n",
    "            rescale = 1./255,\n",
    "            validation_split=0.30\n",
    "        )\n",
    "\n",
    "        dataflow_kwargs = dict(\n",
    "            target_size=self.config.params_image_size[:-1],\n",
    "            batch_size=self.config.params_batch_size,\n",
    "            interpolation=\"bilinear\"\n",
    "        )\n",
    "\n",
    "        valid_datagenerator = tf.keras.preprocessing.image.ImageDataGenerator(\n",
    "            **datagenerator_kwargs\n",
    "        )\n",
    "\n",
    "        self.valid_generator = valid_datagenerator.flow_from_directory(\n",
    "            directory=self.config.training_data,\n",
    "            subset=\"validation\",\n",
    "            shuffle=False,\n",
    "            **dataflow_kwargs\n",
    "        )\n",
    "\n",
    "\n",
    "    @staticmethod\n",
    "    def load_model(path: Path) -> tf.keras.Model:\n",
    "        return tf.keras.models.load_model(path)\n",
    "    \n",
    "\n",
    "    def evaluation(self):\n",
    "        self.model = self.load_model(self.config.path_of_model)\n",
    "        self._valid_generator()\n",
    "        self.score = model.evaluate(self.valid_generator)\n",
    "        self.save_score()\n",
    "\n",
    "    def save_score(self):\n",
    "        scores = {\"loss\": self.score[0], \"accuracy\": self.score[1]}\n",
    "        save_json(path=Path(\"scores.json\"), data=scores)\n",
    "\n",
    "    \n",
    "    def log_into_mlflow(self):\n",
    "        mlflow.set_registry_uri(self.config.mlflow_uri)\n",
    "        tracking_url_type_store = urlparse(mlflow.get_tracking_uri()).scheme\n",
    "        \n",
    "        with mlflow.start_run():\n",
    "            mlflow.log_params(self.config.all_params)\n",
    "            mlflow.log_metrics(\n",
    "                {\"loss\": self.score[0], \"accuracy\": self.score[1]}\n",
    "            )\n",
    "            # Model registry does not work with file store\n",
    "            if tracking_url_type_store != \"file\":\n",
    "\n",
    "                # Register the model\n",
    "                # There are other ways to use the Model Registry, which depends on the use case,\n",
    "                # please refer to the doc for more information:\n",
    "                # https://mlflow.org/docs/latest/model-registry.html#api-workflow\n",
    "                mlflow.keras.log_model(self.model, \"model\")\n",
    "            else:\n",
    "                mlflow.keras.log_model(self.model, \"model\")"
   ]
  },
  {
   "cell_type": "code",
   "execution_count": 131,
   "id": "9f53aaad",
   "metadata": {},
   "outputs": [
    {
     "name": "stdout",
     "output_type": "stream",
     "text": [
      "[2025-07-28 15:00:02,565: INFO: common: yaml file: config\\config.yaml loaded successfully:]\n",
      "[2025-07-28 15:00:02,567: INFO: common: yaml file: params.yaml loaded successfully:]\n",
      "[2025-07-28 15:00:02,568: INFO: common: created directory at: artifacts:]\n",
      "Found 139 images belonging to 2 classes.\n",
      "9/9 [==============================] - 7s 815ms/step - loss: 3.7141 - accuracy: 0.5036\n",
      "[2025-07-28 15:00:10,336: INFO: common: json file saved at: scores.json:]\n"
     ]
    },
    {
     "name": "stderr",
     "output_type": "stream",
     "text": [
      "2025/07/28 15:00:11 WARNING mlflow.tensorflow: You are saving a TensorFlow Core model or Keras model without a signature. Inference with mlflow.pyfunc.spark_udf() will not work unless the model's pyfunc representation accepts pandas DataFrames as inference inputs.\n"
     ]
    },
    {
     "name": "stdout",
     "output_type": "stream",
     "text": [
      "[2025-07-28 15:00:12,852: WARNING: save: Found untraced functions such as _jit_compiled_convolution_op, _jit_compiled_convolution_op, _jit_compiled_convolution_op, _jit_compiled_convolution_op, _jit_compiled_convolution_op while saving (showing 5 of 14). These functions will not be directly callable after loading.:]\n",
      "INFO:tensorflow:Assets written to: C:\\Users\\ASUS\\AppData\\Local\\Temp\\tmpppv46bhw\\model\\data\\model\\assets\n",
      "[2025-07-28 15:00:13,304: INFO: builder_impl: Assets written to: C:\\Users\\ASUS\\AppData\\Local\\Temp\\tmpppv46bhw\\model\\data\\model\\assets:]\n"
     ]
    },
    {
     "name": "stderr",
     "output_type": "stream",
     "text": [
      "2025/07/28 15:00:19 WARNING mlflow.models.model: Model logged without a signature and input example. Please set `input_example` parameter when logging the model to auto infer the model signature.\n",
      "2025/07/28 15:01:49 INFO mlflow.tracking._tracking_service.client: 🏃 View run chill-rat-297 at: https://dagshub.com/anujayavidmal2002/KidneyDiseaseEndtoEndDL.mlflow/#/experiments/0/runs/f3a98d18c07142128046cf2ccd6d0ca2.\n",
      "2025/07/28 15:01:49 INFO mlflow.tracking._tracking_service.client: 🧪 View experiment at: https://dagshub.com/anujayavidmal2002/KidneyDiseaseEndtoEndDL.mlflow/#/experiments/0.\n"
     ]
    }
   ],
   "source": [
    "try:\n",
    "    config = ConfigurationManager()\n",
    "    eval_config = config.get_evaluation_config()\n",
    "    evaluation = Evaluation(eval_config)\n",
    "    evaluation.evaluation()\n",
    "    evaluation.log_into_mlflow()\n",
    "\n",
    "except Exception as e:\n",
    "   raise e"
   ]
  },
  {
   "cell_type": "code",
   "execution_count": null,
   "id": "d12c7c03",
   "metadata": {},
   "outputs": [],
   "source": []
  },
  {
   "cell_type": "code",
   "execution_count": null,
   "id": "dd5245a2",
   "metadata": {},
   "outputs": [],
   "source": []
  },
  {
   "cell_type": "code",
   "execution_count": null,
   "id": "692c0385",
   "metadata": {},
   "outputs": [],
   "source": []
  },
  {
   "cell_type": "code",
   "execution_count": null,
   "id": "c8819b17",
   "metadata": {},
   "outputs": [],
   "source": []
  },
  {
   "cell_type": "code",
   "execution_count": null,
   "id": "2454f371",
   "metadata": {},
   "outputs": [],
   "source": []
  },
  {
   "cell_type": "code",
   "execution_count": null,
   "id": "f135fa2e",
   "metadata": {},
   "outputs": [],
   "source": []
  },
  {
   "cell_type": "code",
   "execution_count": null,
   "id": "1a85937f",
   "metadata": {},
   "outputs": [],
   "source": []
  }
 ],
 "metadata": {
  "kernelspec": {
   "display_name": "kidney",
   "language": "python",
   "name": "python3"
  },
  "language_info": {
   "codemirror_mode": {
    "name": "ipython",
    "version": 3
   },
   "file_extension": ".py",
   "mimetype": "text/x-python",
   "name": "python",
   "nbconvert_exporter": "python",
   "pygments_lexer": "ipython3",
   "version": "3.8.20"
  }
 },
 "nbformat": 4,
 "nbformat_minor": 5
}
